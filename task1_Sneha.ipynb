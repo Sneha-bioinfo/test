{
 "cells": [
  {
   "cell_type": "code",
   "execution_count": 8,
   "metadata": {},
   "outputs": [
    {
     "name": "stdout",
     "output_type": "stream",
     "text": [
      "Sneha Das snneha26@gmail.com @Sneha software development/data analysis @cider 5\n"
     ]
    }
   ],
   "source": [
    "name= 'Sneha Das'\n",
    "email='snneha26@gmail.com'\n",
    "slackusername='@Sneha'\n",
    "biostack='software development/data analysis'\n",
    "twitter_handle='@cider'\n",
    "\n",
    "def hammingdistance(a,b):\n",
    "    distance=0\n",
    "    l=len(a)\n",
    "    for i in range(l):\n",
    "        if a[i]!=b[i]:\n",
    "           distance +=1\n",
    "    return distance\n",
    "hamming_distance=hammingdistance('@Sneha','@cider')\n",
    "print(name,email,slackusername,biostack,twitter_handle ,hamming_distance)\n"
   ]
  },
  {
   "cell_type": "code",
   "execution_count": null,
   "metadata": {},
   "outputs": [],
   "source": []
  },
  {
   "cell_type": "code",
   "execution_count": null,
   "metadata": {},
   "outputs": [],
   "source": []
  },
  {
   "cell_type": "code",
   "execution_count": null,
   "metadata": {},
   "outputs": [],
   "source": []
  }
 ],
 "metadata": {
  "kernelspec": {
   "display_name": "Python 3",
   "language": "python",
   "name": "python3"
  },
  "language_info": {
   "codemirror_mode": {
    "name": "ipython",
    "version": 3
   },
   "file_extension": ".py",
   "mimetype": "text/x-python",
   "name": "python",
   "nbconvert_exporter": "python",
   "pygments_lexer": "ipython3",
   "version": "3.8.5"
  }
 },
 "nbformat": 4,
 "nbformat_minor": 4
}
